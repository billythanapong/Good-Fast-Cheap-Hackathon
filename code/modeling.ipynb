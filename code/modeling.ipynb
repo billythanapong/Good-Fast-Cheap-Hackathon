{
 "cells": [
  {
   "cell_type": "code",
   "execution_count": 55,
   "id": "7f14f78f",
   "metadata": {},
   "outputs": [],
   "source": [
    "import pandas as pd\n",
    "import matplotlib.pyplot as plt\n",
    "import numpy as np\n",
    "import seaborn as sns\n",
    "import warnings\n",
    "warnings.filterwarnings('ignore')\n",
    "\n",
    "# screening the missing value\n",
    "import missingno as msno\n",
    "\n",
    "# Using for modeling\n",
    "from sklearn.linear_model import LinearRegression,RidgeCV,LassoCV,Ridge,Lasso,LogisticRegression\n",
    "from sklearn import metrics\n",
    "from sklearn.metrics import classification_report,plot_confusion_matrix,f1_score\n",
    "from sklearn.model_selection import train_test_split,cross_val_score,GridSearchCV\n",
    "from sklearn.preprocessing import StandardScaler,PolynomialFeatures,OrdinalEncoder\n",
    "from sklearn.decomposition import PCA\n",
    "from sklearn.ensemble import GradientBoostingClassifier,AdaBoostClassifier,VotingClassifier,RandomForestClassifier\n",
    "\n",
    "from imblearn.over_sampling import SMOTE\n",
    "import time\n",
    "\n",
    "from imblearn.pipeline import Pipeline"
   ]
  },
  {
   "cell_type": "markdown",
   "id": "12a798be",
   "metadata": {},
   "source": [
    "# Data import "
   ]
  },
  {
   "cell_type": "code",
   "execution_count": 56,
   "id": "75f27b3b",
   "metadata": {},
   "outputs": [],
   "source": [
    "df = pd.read_csv('./data/cleand_df.csv')"
   ]
  },
  {
   "cell_type": "code",
   "execution_count": 57,
   "id": "ca794b9b",
   "metadata": {
    "scrolled": true
   },
   "outputs": [
    {
     "data": {
      "text/plain": [
       "Unnamed: 0                               0\n",
       "age                                      0\n",
       "capital-gain                             0\n",
       "hours-per-week                           0\n",
       "wage                                     0\n",
       "marital-status_ Married-AF-spouse        0\n",
       "marital-status_ Married-civ-spouse       0\n",
       "marital-status_ Married-spouse-absent    0\n",
       "marital-status_ Never-married            0\n",
       "marital-status_ Separated                0\n",
       "marital-status_ Widowed                  0\n",
       "relationship_ Not-in-family              0\n",
       "relationship_ Other-relative             0\n",
       "relationship_ Own-child                  0\n",
       "relationship_ Unmarried                  0\n",
       "relationship_ Wife                       0\n",
       "sex_ Male                                0\n",
       "workclass_ Federal-gov                   0\n",
       "workclass_ Local-gov                     0\n",
       "workclass_ Never-worked                  0\n",
       "workclass_ Private                       0\n",
       "workclass_ Self-emp-inc                  0\n",
       "workclass_ Self-emp-not-inc              0\n",
       "workclass_ State-gov                     0\n",
       "workclass_ Without-pay                   0\n",
       "occupation_ Adm-clerical                 0\n",
       "occupation_ Armed-Forces                 0\n",
       "occupation_ Craft-repair                 0\n",
       "occupation_ Exec-managerial              0\n",
       "occupation_ Farming-fishing              0\n",
       "occupation_ Handlers-cleaners            0\n",
       "occupation_ Machine-op-inspct            0\n",
       "occupation_ Other-service                0\n",
       "occupation_ Priv-house-serv              0\n",
       "occupation_ Prof-specialty               0\n",
       "occupation_ Protective-serv              0\n",
       "occupation_ Sales                        0\n",
       "occupation_ Tech-support                 0\n",
       "occupation_ Transport-moving             0\n",
       "native-country_ Canada                   0\n",
       "native-country_ Dominican-Republic       0\n",
       "native-country_ El-Salvador              0\n",
       "native-country_ Germany                  0\n",
       "native-country_ Mexico                   0\n",
       "native-country_ Philippines              0\n",
       "native-country_ United-States            0\n",
       "native-country_Other                     0\n",
       "education-num_5                          0\n",
       "education-num_6                          0\n",
       "education-num_7                          0\n",
       "education-num_8                          0\n",
       "education-num_9                          0\n",
       "education-num_10                         0\n",
       "education-num_11                         0\n",
       "education-num_12                         0\n",
       "education-num_13                         0\n",
       "education-num_14                         0\n",
       "education-num_15                         0\n",
       "education-num_16                         0\n",
       "dtype: int64"
      ]
     },
     "execution_count": 57,
     "metadata": {},
     "output_type": "execute_result"
    }
   ],
   "source": [
    "df.isnull().sum()"
   ]
  },
  {
   "cell_type": "code",
   "execution_count": 58,
   "id": "e143673a",
   "metadata": {},
   "outputs": [],
   "source": [
    "df.drop(columns='Unnamed: 0',inplace=True)"
   ]
  },
  {
   "cell_type": "code",
   "execution_count": 59,
   "id": "a75359c2",
   "metadata": {},
   "outputs": [
    {
     "data": {
      "text/plain": [
       "(6324, 58)"
      ]
     },
     "execution_count": 59,
     "metadata": {},
     "output_type": "execute_result"
    }
   ],
   "source": [
    "df.shape"
   ]
  },
  {
   "cell_type": "code",
   "execution_count": 60,
   "id": "0c6e56f3",
   "metadata": {
    "scrolled": true
   },
   "outputs": [
    {
     "data": {
      "text/plain": [
       "age                                      int64\n",
       "capital-gain                             int64\n",
       "hours-per-week                           int64\n",
       "wage                                     int64\n",
       "marital-status_ Married-AF-spouse        int64\n",
       "marital-status_ Married-civ-spouse       int64\n",
       "marital-status_ Married-spouse-absent    int64\n",
       "marital-status_ Never-married            int64\n",
       "marital-status_ Separated                int64\n",
       "marital-status_ Widowed                  int64\n",
       "relationship_ Not-in-family              int64\n",
       "relationship_ Other-relative             int64\n",
       "relationship_ Own-child                  int64\n",
       "relationship_ Unmarried                  int64\n",
       "relationship_ Wife                       int64\n",
       "sex_ Male                                int64\n",
       "workclass_ Federal-gov                   int64\n",
       "workclass_ Local-gov                     int64\n",
       "workclass_ Never-worked                  int64\n",
       "workclass_ Private                       int64\n",
       "workclass_ Self-emp-inc                  int64\n",
       "workclass_ Self-emp-not-inc              int64\n",
       "workclass_ State-gov                     int64\n",
       "workclass_ Without-pay                   int64\n",
       "occupation_ Adm-clerical                 int64\n",
       "occupation_ Armed-Forces                 int64\n",
       "occupation_ Craft-repair                 int64\n",
       "occupation_ Exec-managerial              int64\n",
       "occupation_ Farming-fishing              int64\n",
       "occupation_ Handlers-cleaners            int64\n",
       "occupation_ Machine-op-inspct            int64\n",
       "occupation_ Other-service                int64\n",
       "occupation_ Priv-house-serv              int64\n",
       "occupation_ Prof-specialty               int64\n",
       "occupation_ Protective-serv              int64\n",
       "occupation_ Sales                        int64\n",
       "occupation_ Tech-support                 int64\n",
       "occupation_ Transport-moving             int64\n",
       "native-country_ Canada                   int64\n",
       "native-country_ Dominican-Republic       int64\n",
       "native-country_ El-Salvador              int64\n",
       "native-country_ Germany                  int64\n",
       "native-country_ Mexico                   int64\n",
       "native-country_ Philippines              int64\n",
       "native-country_ United-States            int64\n",
       "native-country_Other                     int64\n",
       "education-num_5                          int64\n",
       "education-num_6                          int64\n",
       "education-num_7                          int64\n",
       "education-num_8                          int64\n",
       "education-num_9                          int64\n",
       "education-num_10                         int64\n",
       "education-num_11                         int64\n",
       "education-num_12                         int64\n",
       "education-num_13                         int64\n",
       "education-num_14                         int64\n",
       "education-num_15                         int64\n",
       "education-num_16                         int64\n",
       "dtype: object"
      ]
     },
     "execution_count": 60,
     "metadata": {},
     "output_type": "execute_result"
    }
   ],
   "source": [
    "df.dtypes"
   ]
  },
  {
   "cell_type": "markdown",
   "id": "10e4098f",
   "metadata": {},
   "source": [
    "# Modeling"
   ]
  },
  {
   "cell_type": "code",
   "execution_count": 61,
   "id": "f31f325c",
   "metadata": {},
   "outputs": [],
   "source": [
    "X = df.drop(columns='wage')\n",
    "y= df['wage']"
   ]
  },
  {
   "cell_type": "code",
   "execution_count": 62,
   "id": "1be3f009",
   "metadata": {},
   "outputs": [
    {
     "data": {
      "text/plain": [
       "0    75.98\n",
       "1    24.02\n",
       "Name: wage, dtype: float64"
      ]
     },
     "execution_count": 62,
     "metadata": {},
     "output_type": "execute_result"
    }
   ],
   "source": [
    "# Baseline score\n",
    "y.value_counts(normalize=True).mul(100).round(2)"
   ]
  },
  {
   "cell_type": "code",
   "execution_count": 63,
   "id": "3bef00eb",
   "metadata": {},
   "outputs": [],
   "source": [
    "X_train,X_test,y_train,y_test = train_test_split(X,y,random_state=42)"
   ]
  },
  {
   "cell_type": "code",
   "execution_count": 64,
   "id": "5175447c",
   "metadata": {},
   "outputs": [
    {
     "data": {
      "text/plain": [
       "((4743, 57), (1581, 57), (4743,), (1581,))"
      ]
     },
     "execution_count": 64,
     "metadata": {},
     "output_type": "execute_result"
    }
   ],
   "source": [
    "X_train.shape,X_test.shape,y_train.shape,y_test.shape"
   ]
  },
  {
   "cell_type": "code",
   "execution_count": 65,
   "id": "72c49257",
   "metadata": {},
   "outputs": [],
   "source": [
    "# Scale\n",
    "sc= StandardScaler()\n",
    "X_train_sc = sc.fit_transform(X_train)\n",
    "X_test_sc = sc.transform(X_test)\n",
    "\n",
    "# Smote\n",
    "sm = SMOTE(random_state=42, n_jobs= -1, )\n",
    "X_train_smote, y_train_smote = sm.fit_resample(X_train_sc, y_train)\n",
    "\n",
    "# Instantiate Logistic regression with Ridge penalty\n",
    "logreg = LogisticRegression(penalty ='l2',solver='saga')\n",
    "\n",
    "\n"
   ]
  },
  {
   "cell_type": "code",
   "execution_count": 66,
   "id": "ef3d6b11",
   "metadata": {
    "scrolled": true
   },
   "outputs": [
    {
     "data": {
      "text/plain": [
       "LogisticRegression(solver='saga')"
      ]
     },
     "execution_count": 66,
     "metadata": {},
     "output_type": "execute_result"
    }
   ],
   "source": [
    "# fit scaled data\n",
    "logreg.fit(X_train_smote,y_train_smote)"
   ]
  },
  {
   "cell_type": "code",
   "execution_count": 67,
   "id": "f428a455",
   "metadata": {},
   "outputs": [
    {
     "data": {
      "text/plain": [
       "0.8331944444444445"
      ]
     },
     "execution_count": 67,
     "metadata": {},
     "output_type": "execute_result"
    }
   ],
   "source": [
    "# Train acc\n",
    "logreg.score(X_train_smote,y_train_smote)"
   ]
  },
  {
   "cell_type": "code",
   "execution_count": 68,
   "id": "e04dc0b4",
   "metadata": {},
   "outputs": [
    {
     "data": {
      "text/plain": [
       "0.8096141682479443"
      ]
     },
     "execution_count": 68,
     "metadata": {},
     "output_type": "execute_result"
    }
   ],
   "source": [
    "# Test acc\n",
    "logreg.score(X_test_sc,y_test)"
   ]
  },
  {
   "cell_type": "code",
   "execution_count": 69,
   "id": "8890727e",
   "metadata": {},
   "outputs": [],
   "source": [
    "# Predict y\n",
    "y_pred =logreg.predict(X_test_sc)"
   ]
  },
  {
   "cell_type": "code",
   "execution_count": 70,
   "id": "a493c758",
   "metadata": {
    "scrolled": true
   },
   "outputs": [
    {
     "name": "stdout",
     "output_type": "stream",
     "text": [
      "              precision    recall  f1-score   support\n",
      "\n",
      "           0       0.94      0.80      0.87      1205\n",
      "           1       0.57      0.83      0.67       376\n",
      "\n",
      "    accuracy                           0.81      1581\n",
      "   macro avg       0.75      0.82      0.77      1581\n",
      "weighted avg       0.85      0.81      0.82      1581\n",
      "\n"
     ]
    }
   ],
   "source": [
    "print(classification_report(y_test,y_pred))"
   ]
  },
  {
   "cell_type": "code",
   "execution_count": 71,
   "id": "474d4c6e",
   "metadata": {},
   "outputs": [
    {
     "data": {
      "text/html": [
       "<div>\n",
       "<style scoped>\n",
       "    .dataframe tbody tr th:only-of-type {\n",
       "        vertical-align: middle;\n",
       "    }\n",
       "\n",
       "    .dataframe tbody tr th {\n",
       "        vertical-align: top;\n",
       "    }\n",
       "\n",
       "    .dataframe thead th {\n",
       "        text-align: right;\n",
       "    }\n",
       "</style>\n",
       "<table border=\"1\" class=\"dataframe\">\n",
       "  <thead>\n",
       "    <tr style=\"text-align: right;\">\n",
       "      <th></th>\n",
       "      <th>0</th>\n",
       "      <th>color</th>\n",
       "    </tr>\n",
       "  </thead>\n",
       "  <tbody>\n",
       "    <tr>\n",
       "      <th>marital-status_ Married-civ-spouse</th>\n",
       "      <td>0.986614</td>\n",
       "      <td>blue</td>\n",
       "    </tr>\n",
       "    <tr>\n",
       "      <th>capital-gain</th>\n",
       "      <td>0.817630</td>\n",
       "      <td>blue</td>\n",
       "    </tr>\n",
       "    <tr>\n",
       "      <th>education-num_13</th>\n",
       "      <td>0.577427</td>\n",
       "      <td>blue</td>\n",
       "    </tr>\n",
       "    <tr>\n",
       "      <th>hours-per-week</th>\n",
       "      <td>0.536835</td>\n",
       "      <td>blue</td>\n",
       "    </tr>\n",
       "    <tr>\n",
       "      <th>age</th>\n",
       "      <td>0.511331</td>\n",
       "      <td>blue</td>\n",
       "    </tr>\n",
       "  </tbody>\n",
       "</table>\n",
       "</div>"
      ],
      "text/plain": [
       "                                           0 color\n",
       "marital-status_ Married-civ-spouse  0.986614  blue\n",
       "capital-gain                        0.817630  blue\n",
       "education-num_13                    0.577427  blue\n",
       "hours-per-week                      0.536835  blue\n",
       "age                                 0.511331  blue"
      ]
     },
     "execution_count": 71,
     "metadata": {},
     "output_type": "execute_result"
    }
   ],
   "source": [
    "# coefficient dataframe\n",
    "logreg_coef = pd.DataFrame(logreg.coef_,columns=sc.get_feature_names_out()).T.sort_values(by=0,ascending=False)\n",
    "\n",
    "# Label the color the each coefficient\n",
    "color = ['red' if x < 0 else 'blue' for x in logreg_coef[0]]\n",
    "\n",
    "# Assign the color_list to new column\n",
    "logreg_coef['color'] = color\n",
    "\n",
    "logreg_coef.head()"
   ]
  },
  {
   "cell_type": "code",
   "execution_count": 72,
   "id": "aba89712",
   "metadata": {},
   "outputs": [
    {
     "data": {
      "text/plain": [
       "Index(['marital-status_ Married-civ-spouse', 'capital-gain',\n",
       "       'education-num_13', 'hours-per-week', 'age', 'relationship_ Own-child',\n",
       "       'education-num_14', 'education-num_10', 'occupation_ Exec-managerial',\n",
       "       'workclass_ Private'],\n",
       "      dtype='object')"
      ]
     },
     "execution_count": 72,
     "metadata": {},
     "output_type": "execute_result"
    }
   ],
   "source": [
    "# Select the highest values whether negative or positive\n",
    "abs(logreg_coef[0]).sort_values(ascending=False)[:10].index"
   ]
  },
  {
   "cell_type": "code",
   "execution_count": 73,
   "id": "3d603c3d",
   "metadata": {
    "scrolled": true
   },
   "outputs": [
    {
     "data": {
      "text/plain": [
       "Text(0.5, 1.0, 'Features importance of wage > 50K')"
      ]
     },
     "execution_count": 73,
     "metadata": {},
     "output_type": "execute_result"
    },
    {
     "data": {
      "image/png": "[encoded data removed]",
      "text/plain": [
       "<Figure size 1200x800 with 1 Axes>"
      ]
     },
     "metadata": {
      "needs_background": "light"
     },
     "output_type": "display_data"
    }
   ],
   "source": [
    "# Plot the coefficient of top 10 highest coefficient \n",
    "plt.figure(dpi=200)\n",
    "plt.barh(logreg_coef.loc[['marital-status_ Married-civ-spouse', 'capital-gain',\n",
    "       'education-num_13', 'hours-per-week', 'age', 'relationship_ Own-child',\n",
    "       'education-num_14', 'education-num_10', 'occupation_ Exec-managerial',\n",
    "       'workclass_ Private']].index,logreg_coef.loc[['marital-status_ Married-civ-spouse', 'capital-gain',\n",
    "       'education-num_13', 'hours-per-week', 'age', 'relationship_ Own-child',\n",
    "       'education-num_14', 'education-num_10', 'occupation_ Exec-managerial',\n",
    "       'workclass_ Private']][0],color=logreg_coef.loc[['marital-status_ Married-civ-spouse', 'capital-gain',\n",
    "       'education-num_13', 'hours-per-week', 'age', 'relationship_ Own-child',\n",
    "       'education-num_14', 'education-num_10', 'occupation_ Exec-managerial',\n",
    "       'workclass_ Private']]['color'])\n",
    "plt.title('Features importance of wage > 50K',size=15)"
   ]
  },
  {
   "cell_type": "markdown",
   "id": "7af1364d",
   "metadata": {},
   "source": [
    "# Test data"
   ]
  },
  {
   "cell_type": "code",
   "execution_count": 79,
   "id": "4e29d4a2",
   "metadata": {},
   "outputs": [],
   "source": [
    "test_data = pd.read_csv('./data/test_data.csv')\n",
    "\n",
    "\n",
    "name_2 = ['Other' if x in [' South', ' Jamaica',\n",
    "       ' India', ' China', ' Puerto-Rico', ' England', ' Cuba', ' Italy',\n",
    "       ' Poland', ' Japan', ' Haiti', ' Guatemala', ' Columbia', ' Taiwan',\n",
    "       ' Iran', ' Peru', ' France', ' Vietnam', ' Cambodia', ' Nicaragua',\n",
    "       ' Outlying-US(Guam-USVI-etc)', ' Portugal', ' Hong', ' Scotland',\n",
    "       ' Ecuador', ' Yugoslavia', ' Greece', ' Hungary', ' Trinadad&Tobago',\n",
    "       ' Ireland', ' Thailand', ' Laos', ' Honduras'] else x for x in test_data['native-country'].values]\n",
    "\n",
    "test_data['native-country'] = name_2\n",
    "\n",
    "\n",
    "\n",
    "\n",
    "\n",
    "# Dummies\n",
    "test_data = pd.get_dummies(test_data,columns=['education-num', 'marital-status',\n",
    "       'relationship', 'sex'],drop_first=True)\n",
    "test_data = pd.get_dummies(test_data,columns=['workclass','occupation','native-country'])\n",
    "\n",
    "\n",
    "\n",
    "# Drop\n",
    "test_data.drop(columns=['workclass_ ?','occupation_ ?','native-country_ ?'],inplace=True)\n",
    "test_data.drop(columns=['education'],inplace=True)\n",
    "test_data.drop(columns=['fnlwgt','capital-loss'],inplace=True)\n",
    "test_data.drop(columns=['education-num_2','education-num_3','education-num_4'],inplace=True)\n",
    "# scale test\n",
    "\n",
    "test_data = sc.transform(test_data)\n"
   ]
  },
  {
   "cell_type": "code",
   "execution_count": 80,
   "id": "0307e72d",
   "metadata": {},
   "outputs": [],
   "source": [
    "y_pred_test =logreg.predict(test_data)"
   ]
  },
  {
   "cell_type": "code",
   "execution_count": 81,
   "id": "4aad663e",
   "metadata": {
    "scrolled": true
   },
   "outputs": [
    {
     "data": {
      "text/plain": [
       "(16281,)"
      ]
     },
     "execution_count": 81,
     "metadata": {},
     "output_type": "execute_result"
    }
   ],
   "source": [
    "y_pred_test.shape"
   ]
  },
  {
   "cell_type": "code",
   "execution_count": 82,
   "id": "b8fbb5b8",
   "metadata": {},
   "outputs": [],
   "source": [
    "pd.DataFrame({'wage':y_pred_test}).to_csv('BL_BRID_SR_predict.csv',index=False)"
   ]
  },
  {
   "cell_type": "markdown",
   "id": "0773324b",
   "metadata": {},
   "source": [
    "# Gridsearch GradientBoosting"
   ]
  },
  {
   "cell_type": "code",
   "execution_count": 110,
   "id": "443cde8e",
   "metadata": {},
   "outputs": [
    {
     "name": "stdout",
     "output_type": "stream",
     "text": [
      "Fitting 3 folds for each of 216 candidates, totalling 648 fits\n",
      "              precision    recall  f1-score   support\n",
      "\n",
      "           0       0.94      0.80      0.87      1205\n",
      "           1       0.57      0.83      0.67       376\n",
      "\n",
      "    accuracy                           0.81      1581\n",
      "   macro avg       0.75      0.82      0.77      1581\n",
      "weighted avg       0.85      0.81      0.82      1581\n",
      "\n",
      "\n",
      "It's take :102.30624604225159 seconds\n"
     ]
    }
   ],
   "source": [
    "\n",
    "t0 = time.time()\n",
    "\n",
    "pipe = Pipeline([('sc',StandardScaler()),('sm',SMOTE()),('gd',GradientBoostingClassifier())])\n",
    "\n",
    "# parameters\n",
    "param = { 'gd__learning_rate':[0.2,0.5,1],\n",
    "    'gd__n_estimators':[50,100],\n",
    "    'gd__min_samples_split':[2,5],\n",
    "    'gd__min_samples_leaf':[1,3,5],\n",
    "    'gd__max_features':[1,3,5],\n",
    "    'gd__ccp_alpha':[0., 0.01,]}\n",
    "    \n",
    "gs = GridSearchCV(pipe,param_grid=param,cv=3,verbose=1)\n",
    "    \n",
    "    #fit\n",
    "gs.fit(X_train,y_train)\n",
    "    #pred\n",
    "pred = gs.predict(X_test)\n",
    "    \n",
    "print(classification_report(y_test,y_pred))\n",
    "    \n",
    "\n",
    "\n",
    "\n",
    "print(f'\\nIt\\'s take :{time.time()-t0} seconds')"
   ]
  },
  {
   "cell_type": "code",
   "execution_count": 111,
   "id": "23e4403b",
   "metadata": {},
   "outputs": [
    {
     "data": {
      "text/plain": [
       "{'gd__ccp_alpha': 0.0,\n",
       " 'gd__learning_rate': 0.5,\n",
       " 'gd__max_features': 5,\n",
       " 'gd__min_samples_leaf': 3,\n",
       " 'gd__min_samples_split': 2,\n",
       " 'gd__n_estimators': 100}"
      ]
     },
     "execution_count": 111,
     "metadata": {},
     "output_type": "execute_result"
    }
   ],
   "source": [
    "gs.best_params_"
   ]
  },
  {
   "cell_type": "code",
   "execution_count": 112,
   "id": "2686a923",
   "metadata": {},
   "outputs": [
    {
     "data": {
      "text/plain": [
       "0.8640101201771031"
      ]
     },
     "execution_count": 112,
     "metadata": {},
     "output_type": "execute_result"
    }
   ],
   "source": [
    "gs.score(X_train,y_train)\n"
   ]
  },
  {
   "cell_type": "code",
   "execution_count": 113,
   "id": "3a49ba02",
   "metadata": {},
   "outputs": [
    {
     "data": {
      "text/plain": [
       "0.8285895003162556"
      ]
     },
     "execution_count": 113,
     "metadata": {},
     "output_type": "execute_result"
    }
   ],
   "source": [
    "gs.score(X_test,y_test)\n",
    "\n",
    "# overfit and the f1-score didn't improve"
   ]
  },
  {
   "cell_type": "code",
   "execution_count": null,
   "id": "fd2569d2",
   "metadata": {},
   "outputs": [],
   "source": []
  }
 ],
 "metadata": {
  "kernelspec": {
   "display_name": "Python 3 (ipykernel)",
   "language": "python",
   "name": "python3"
  },
  "language_info": {
   "codemirror_mode": {
    "name": "ipython",
    "version": 3
   },
   "file_extension": ".py",
   "mimetype": "text/x-python",
   "name": "python",
   "nbconvert_exporter": "python",
   "pygments_lexer": "ipython3",
   "version": "3.9.12"
  }
 },
 "nbformat": 4,
 "nbformat_minor": 5
}
